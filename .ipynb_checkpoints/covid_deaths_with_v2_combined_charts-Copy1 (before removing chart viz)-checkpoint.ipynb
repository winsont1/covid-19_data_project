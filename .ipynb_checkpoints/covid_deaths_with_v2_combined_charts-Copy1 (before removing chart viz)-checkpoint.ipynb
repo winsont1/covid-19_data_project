{
 "cells": [
  {
   "cell_type": "code",
   "execution_count": 22,
   "metadata": {},
   "outputs": [
    {
     "data": {
      "text/plain": [
       "array(['Australia', 'China', 'Denmark', 'France', 'Netherlands',\n",
       "       'United Kingdom'], dtype=object)"
      ]
     },
     "execution_count": 22,
     "metadata": {},
     "output_type": "execute_result"
    }
   ],
   "source": [
    "# full_country_list = list(recovered_df['Country/Region'].unique())\n",
    "# recovered_df[recovered_df['Province/State'].notnull()]['Country/Region'].unique()"
   ]
  },
  {
   "cell_type": "code",
   "execution_count": null,
   "metadata": {},
   "outputs": [],
   "source": [
    "#Some useful functions\n",
    "def check_latest_country_data(dataframe, country):\n",
    "    return dataframe[dataframe['country']==country].sort_values(by='date',ascending=False)[0:50]\n"
   ]
  },
  {
   "cell_type": "markdown",
   "metadata": {},
   "source": [
    "## 1. Download a timeseries of (1) daily deaths, (2) confirmed cases, (3) recovered per country (from John Hopkins Covid-19 Data Github repository)"
   ]
  },
  {
   "cell_type": "code",
   "execution_count": 4,
   "metadata": {},
   "outputs": [],
   "source": [
    "import pandas as pd\n",
    "import numpy as np\n",
    "import bokeh\n",
    "\n",
    "# Download daily deaths per country from Github repo raw csv file and save to Pandas dataframe\n",
    "url = 'https://raw.githubusercontent.com/CSSEGISandData/COVID-19/master/csse_covid_19_data/csse_covid_19_time_series/time_series_covid19_deaths_global.csv'\n",
    "url2 = 'https://raw.githubusercontent.com/CSSEGISandData/COVID-19/master/csse_covid_19_data/csse_covid_19_time_series/time_series_covid19_confirmed_global.csv'\n",
    "url3 = 'https://raw.githubusercontent.com/CSSEGISandData/COVID-19/master/csse_covid_19_data/csse_covid_19_time_series/time_series_covid19_recovered_global.csv'\n",
    "\n",
    "deaths_df = pd.read_csv(url, error_bad_lines=False)\n",
    "confirmed_df = pd.read_csv(url2, error_bad_lines=False)\n",
    "recovered_df = pd.read_csv(url3, error_bad_lines=False)\n",
    "\n",
    "# Write daily deaths dataframe to CSV file (for reference)\n",
    "# deaths_df.to_csv('time_series_covid19_deaths_global.csv', index = False, header=True)"
   ]
  },
  {
   "cell_type": "markdown",
   "metadata": {},
   "source": [
    "## 2. Deal with deaths_df data"
   ]
  },
  {
   "cell_type": "markdown",
   "metadata": {},
   "source": [
    "### 2. (a) Aggregate state data for countries which have negligible data"
   ]
  },
  {
   "cell_type": "code",
   "execution_count": 2,
   "metadata": {},
   "outputs": [],
   "source": [
    "# Extract df of Countries without state info - remove China, Aus and Canada\n",
    "list_countries_with_state_info = ['China','Australia','Canada']\n",
    "\n",
    "df_countries_without_state_info = deaths_df[~deaths_df['Country/Region'].isin(list_countries_with_state_info)]\n",
    "\n",
    "# Aggregate (squash) deaths of countries with negligible state Info (A)\n",
    "df_countries_without_state_info = df_countries_without_state_info.groupby('Country/Region').sum()\n",
    "df_countries_without_state_info = df_countries_without_state_info.reset_index()\n",
    "df_countries_without_state_info.insert(1, 'Province/State',np.nan)\n",
    "\n",
    "# Get dataframe of Countries with State Info (B)\n",
    "df_countries_with_state_info = deaths_df[deaths_df['Country/Region'].isin(list_countries_with_state_info)]\n",
    "\n",
    "# Append aggregated Countries (A) with (B) dataframes\n",
    "combined_df = df_countries_with_state_info.append(df_countries_without_state_info)\n",
    "combined_df = combined_df.drop([\"Lat\", \"Long\"], axis=1)\n",
    "\n",
    "# Get date headers\n",
    "date_headers = list(combined_df.columns[2:].values)\n",
    "\n",
    "long_df = pd.melt(combined_df, id_vars= ['Country/Region','Province/State'], value_vars= date_headers)"
   ]
  },
  {
   "cell_type": "markdown",
   "metadata": {},
   "source": [
    "### 2. (b) Unpivot table"
   ]
  },
  {
   "cell_type": "code",
   "execution_count": 92,
   "metadata": {},
   "outputs": [],
   "source": [
    "# Rename Columns\n",
    "long_df = long_df.rename(columns={\"Country/Region\": \"country\", \"Province/State\": \"state\",\"variable\": \"date\", \"value\": \"total_deaths\"}, errors=\"raise\")\n",
    "\n",
    "# Change date column type\n",
    "long_df['date'] = pd.to_datetime(long_df['date'])\n",
    "\n",
    "# Include deaths change column\n",
    "long_df.insert(4, 'deaths_change',0)\n",
    "\n",
    "# Get list of unique country names\n",
    "full_country_list = list(long_df['country'].unique())"
   ]
  },
  {
   "cell_type": "markdown",
   "metadata": {},
   "source": [
    "### 2. (c) Calculate daily change for each country"
   ]
  },
  {
   "cell_type": "code",
   "execution_count": 139,
   "metadata": {},
   "outputs": [],
   "source": [
    "# Calculate deaths_change for each country in 'countries' list\n",
    "\n",
    "for country in full_country_list:\n",
    "    \n",
    "    if ( country not in list_countries_with_state_info ): \n",
    "    \n",
    "        # Set temporary df for country\n",
    "        temp_df = long_df.loc[long_df['country'] == country]\n",
    "\n",
    "        # Find difference between rows (returns difference results dataframe)\n",
    "        diff = temp_df['total_deaths'].diff()\n",
    "\n",
    "        # Apply difference calculation to original long_df according to index\n",
    "        long_df.iloc[diff.index,4] = diff\n",
    "        \n",
    "    else: \n",
    "        # Deal with Australia, China and Canada (purely state data)\n",
    "        # Set temporary df for country\n",
    "        temp_country_df = long_df.loc[long_df['country'] == country]\n",
    "        \n",
    "        # Get unique list of states\n",
    "        states_list = list(temp_country_df['state'].unique())\n",
    "\n",
    "        for state in states_list:\n",
    "            temp_state_df = temp_country_df.loc[long_df['state'] == state]\n",
    "\n",
    "            diff = temp_state_df['total_deaths'].diff()\n",
    "\n",
    "            long_df.iloc[diff.index,4] = diff \n",
    "        \n",
    "# Remove NaN values from dataframe\n",
    "long_df = long_df.fillna(0)"
   ]
  },
  {
   "cell_type": "code",
   "execution_count": null,
   "metadata": {},
   "outputs": [],
   "source": [
    "long_df.to_csv('time_series_covid19_deaths_global.csv', index = False, header=True)"
   ]
  },
  {
   "cell_type": "markdown",
   "metadata": {},
   "source": [
    "## X. Plot Total and Change of Covid-19 Deaths of Top 20 Countries"
   ]
  },
  {
   "cell_type": "code",
   "execution_count": 8,
   "metadata": {},
   "outputs": [],
   "source": [
    "# Find latest date\n",
    "latest_date = long_df['date'].max()\n",
    "\n",
    "# Get Top_20 highest Covid-19 deaths of countries\n",
    "latest_deaths_df = long_df[long_df['date'] == latest_date]\n",
    "latest_deaths_df = latest_deaths_df.sort_values(by='total_deaths', ascending=False)[0:19]\n",
    " \n",
    "grp_list = list(latest_deaths_df['country'])\n",
    "grp_list.append('Australia')"
   ]
  },
  {
   "cell_type": "code",
   "execution_count": 10,
   "metadata": {},
   "outputs": [],
   "source": [
    "grp_df = long_df[long_df['country'].isin(grp_list)]"
   ]
  },
  {
   "cell_type": "markdown",
   "metadata": {},
   "source": [
    "## 5. Plot Australia and US graphs of Total Deaths"
   ]
  },
  {
   "cell_type": "code",
   "execution_count": 7,
   "metadata": {},
   "outputs": [],
   "source": [
    "from bokeh.plotting import figure, output_file, show\n",
    "from bokeh.models import ColumnDataSource\n",
    "from bokeh.palettes import Category20\n",
    "\n",
    "us_df = long_df[long_df['country'] == 'US']\n",
    "us_df = us_df[us_df['total_deaths']>0]\n",
    "aus_df = long_df[long_df['country'] == 'Australia']\n",
    "aus_df = aus_df[aus_df['total_deaths']>0]\n",
    "my_df = long_df[long_df['country'] == 'Malaysia']\n",
    "my_df = my_df[my_df['total_deaths']>0]\n"
   ]
  },
  {
   "cell_type": "code",
   "execution_count": 8,
   "metadata": {},
   "outputs": [],
   "source": [
    "# Prepare and plot US Deaths Data\n",
    "deaths_array = np.array(us_df['total_deaths'])\n",
    "dates_array = np.array(us_df['date'], dtype=np.datetime64)\n",
    "\n",
    "window_size = 30\n",
    "\n",
    "# output to static HTML file\n",
    "output_file(\"total_US_deaths.html\", title=\"Timeline of US Covid-19 Deaths\")\n",
    "\n",
    "# create a new plot with a datetime axis type\n",
    "p = figure(plot_width=700, plot_height=400, x_axis_type=\"datetime\", sizing_mode=\"scale_both\")\n",
    "\n",
    "# add renderers\n",
    "p.line(dates_array, deaths_array, color='navy', legend_label='total deaths', line_width =2)\n",
    "\n",
    "# NEW: customize by setting attributes\n",
    "p.title.text = \"Timeline of US Covid-19 Deaths\"\n",
    "p.legend.location = \"top_left\"\n",
    "p.grid.grid_line_alpha = 1\n",
    "p.xaxis.axis_label = 'Date'\n",
    "p.yaxis.axis_label = 'Total Deaths'\n",
    "p.ygrid.band_fill_color = \"grey\"\n",
    "p.ygrid.band_fill_alpha = 0.05\n",
    "\n",
    "# show the results\n",
    "show(p)"
   ]
  },
  {
   "cell_type": "code",
   "execution_count": 9,
   "metadata": {},
   "outputs": [],
   "source": [
    "# Prepare and plot Australia Deaths Data\n",
    "deaths_array = np.array(aus_df['total_deaths'])\n",
    "dates_array = np.array(aus_df['date'], dtype=np.datetime64)\n",
    "\n",
    "window_size = 30\n",
    "\n",
    "# output to static HTML file\n",
    "output_file(\"total_Australia_deaths.html\", title=\"Timeline of Australia Covid-19 Deaths\")\n",
    "\n",
    "# create a new plot with a datetime axis type\n",
    "p = figure(plot_width=700, plot_height=400, x_axis_type=\"datetime\", sizing_mode=\"scale_both\")\n",
    "\n",
    "# add renderers\n",
    "p.line(dates_array, deaths_array, color='navy', legend_label='total deaths', line_width =2)\n",
    "\n",
    "# NEW: customize by setting attributes\n",
    "p.title.text = \"Timeline of Australia Covid-19 Deaths\"\n",
    "p.legend.location = \"top_left\"\n",
    "p.grid.grid_line_alpha = 1\n",
    "p.xaxis.axis_label = 'Date'\n",
    "p.yaxis.axis_label = 'Total Deaths'\n",
    "p.ygrid.band_fill_color = \"grey\"\n",
    "p.ygrid.band_fill_alpha = 0.05\n",
    "\n",
    "# show the results\n",
    "show(p)"
   ]
  },
  {
   "cell_type": "code",
   "execution_count": 10,
   "metadata": {},
   "outputs": [],
   "source": [
    "# Prepare and plot Malaysia Deaths Data\n",
    "deaths_array = np.array(my_df['total_deaths'])\n",
    "dates_array = np.array(my_df['date'], dtype=np.datetime64)\n",
    "\n",
    "window_size = 30\n",
    "\n",
    "# output to static HTML file\n",
    "output_file(\"total_Malaysia_deaths.html\", title=\"Timeline of Malaysia Covid-19 Deaths\")\n",
    "\n",
    "# create a new plot with a datetime axis type\n",
    "p = figure(plot_width=700, plot_height=400, x_axis_type=\"datetime\", sizing_mode=\"scale_both\")\n",
    "\n",
    "# add renderers\n",
    "p.line(dates_array, deaths_array, color='navy', legend_label='total deaths', line_width =2)\n",
    "\n",
    "# NEW: customize by setting attributes\n",
    "p.title.text = \"Timeline of Malaysia Covid-19 Deaths\"\n",
    "p.legend.location = \"top_left\"\n",
    "p.grid.grid_line_alpha = 1\n",
    "p.xaxis.axis_label = 'Date'\n",
    "p.yaxis.axis_label = 'Total Deaths'\n",
    "p.ygrid.band_fill_color = \"grey\"\n",
    "p.ygrid.band_fill_alpha = 0.05\n",
    "\n",
    "# show the results\n",
    "show(p)"
   ]
  },
  {
   "cell_type": "markdown",
   "metadata": {},
   "source": [
    "## 4. Plot Top 20 Countries Total Deaths "
   ]
  },
  {
   "cell_type": "code",
   "execution_count": 11,
   "metadata": {},
   "outputs": [
    {
     "name": "stderr",
     "output_type": "stream",
     "text": [
      "BokehDeprecationWarning: 'legend' keyword is deprecated, use explicit 'legend_label', 'legend_field', or 'legend_group' keywords instead\n"
     ]
    }
   ],
   "source": [
    "#bokeh - multi_linegrp_list = df.group.unique()\n",
    "ys = [grp_df.loc[grp_df.country == i].total_deaths for i in grp_list]\n",
    "xs = [grp_df.loc[grp_df.country == i].date for i in grp_list]\n",
    "source = ColumnDataSource(data=dict(\n",
    "     x = xs,\n",
    "     y = ys,\n",
    "     color = (Category20[20]),\n",
    "     group = grp_list))\n",
    "p3 = figure(plot_width=700, plot_height=500, x_axis_type=\"datetime\", sizing_mode=\"scale_both\")\n",
    "p3.multi_line(\n",
    "     xs='x',\n",
    "     ys='y',\n",
    "     legend='group',\n",
    "     source=source,\n",
    "     line_color='color',\n",
    "line_width = 3)\n",
    "\n",
    "p3.title.text = \"Top 20 Countries + Australia Covid-19 Total Deaths (cumulative) \"\n",
    "p3.legend.location = \"top_left\"\n",
    "p3.xaxis.axis_label = 'Date'\n",
    "p3.yaxis.axis_label = 'Total Deaths'\n",
    "\n",
    "output_file(\"top20_total_covid_deaths.html\", title=\"Top 20 Countries + Australia Covid-19 Total Deaths (cumulative) \")\n",
    "show(p3)"
   ]
  },
  {
   "cell_type": "markdown",
   "metadata": {},
   "source": [
    "## 4. Plot Top 20 Countries Daily Deaths"
   ]
  },
  {
   "cell_type": "code",
   "execution_count": 12,
   "metadata": {},
   "outputs": [
    {
     "name": "stderr",
     "output_type": "stream",
     "text": [
      "BokehDeprecationWarning: 'legend' keyword is deprecated, use explicit 'legend_label', 'legend_field', or 'legend_group' keywords instead\n"
     ]
    }
   ],
   "source": [
    "#bokeh - multi_linegrp_list = df.group.unique()\n",
    "ys = [grp_df.loc[grp_df.country == i].deaths_change for i in grp_list]\n",
    "xs = [grp_df.loc[grp_df.country == i].date for i in grp_list]\n",
    "source = ColumnDataSource(data=dict(\n",
    "     x = xs,\n",
    "     y = ys,\n",
    "     color = (Category20[20]),\n",
    "     group = grp_list))\n",
    "p3 = figure(plot_width=700, plot_height=500, x_axis_type=\"datetime\", sizing_mode=\"scale_both\")\n",
    "p3.multi_line(\n",
    "     xs='x',\n",
    "     ys='y',\n",
    "     legend='group',\n",
    "     source=source,\n",
    "     line_color='color',\n",
    "line_width = 3)\n",
    "\n",
    "p3.title.text = \"Top 20 Countries + Australia Covid-19 Daily Deaths (rate of change) \"\n",
    "p3.legend.location = \"top_left\"\n",
    "p3.xaxis.axis_label = 'Date'\n",
    "p3.yaxis.axis_label = 'Daily Deaths'\n",
    "\n",
    "output_file(\"top20_daily_covid_deaths.html\", title=\"Top 20 Countries + Australia Covid-19 Daily Deaths (rate of change)\")\n",
    "show(p3)"
   ]
  },
  {
   "cell_type": "code",
   "execution_count": 13,
   "metadata": {},
   "outputs": [
    {
     "data": {
      "text/html": [
       "<div>\n",
       "<style scoped>\n",
       "    .dataframe tbody tr th:only-of-type {\n",
       "        vertical-align: middle;\n",
       "    }\n",
       "\n",
       "    .dataframe tbody tr th {\n",
       "        vertical-align: top;\n",
       "    }\n",
       "\n",
       "    .dataframe thead th {\n",
       "        text-align: right;\n",
       "    }\n",
       "</style>\n",
       "<table border=\"1\" class=\"dataframe\">\n",
       "  <thead>\n",
       "    <tr style=\"text-align: right;\">\n",
       "      <th></th>\n",
       "      <th>country</th>\n",
       "      <th>date</th>\n",
       "      <th>total_deaths</th>\n",
       "      <th>deaths_change</th>\n",
       "    </tr>\n",
       "  </thead>\n",
       "  <tbody>\n",
       "    <tr>\n",
       "      <th>8</th>\n",
       "      <td>Australia</td>\n",
       "      <td>2020-01-22</td>\n",
       "      <td>0</td>\n",
       "      <td>0.0</td>\n",
       "    </tr>\n",
       "    <tr>\n",
       "      <th>16</th>\n",
       "      <td>Belgium</td>\n",
       "      <td>2020-01-22</td>\n",
       "      <td>0</td>\n",
       "      <td>0.0</td>\n",
       "    </tr>\n",
       "    <tr>\n",
       "      <th>23</th>\n",
       "      <td>Brazil</td>\n",
       "      <td>2020-01-22</td>\n",
       "      <td>0</td>\n",
       "      <td>0.0</td>\n",
       "    </tr>\n",
       "    <tr>\n",
       "      <th>32</th>\n",
       "      <td>Canada</td>\n",
       "      <td>2020-01-22</td>\n",
       "      <td>0</td>\n",
       "      <td>0.0</td>\n",
       "    </tr>\n",
       "    <tr>\n",
       "      <th>35</th>\n",
       "      <td>Chile</td>\n",
       "      <td>2020-01-22</td>\n",
       "      <td>0</td>\n",
       "      <td>0.0</td>\n",
       "    </tr>\n",
       "    <tr>\n",
       "      <th>...</th>\n",
       "      <td>...</td>\n",
       "      <td>...</td>\n",
       "      <td>...</td>\n",
       "      <td>...</td>\n",
       "    </tr>\n",
       "    <tr>\n",
       "      <th>36236</th>\n",
       "      <td>Russia</td>\n",
       "      <td>2020-08-01</td>\n",
       "      <td>14034</td>\n",
       "      <td>95.0</td>\n",
       "    </tr>\n",
       "    <tr>\n",
       "      <th>36252</th>\n",
       "      <td>South Africa</td>\n",
       "      <td>2020-08-01</td>\n",
       "      <td>8153</td>\n",
       "      <td>148.0</td>\n",
       "    </tr>\n",
       "    <tr>\n",
       "      <th>36254</th>\n",
       "      <td>Spain</td>\n",
       "      <td>2020-08-01</td>\n",
       "      <td>28445</td>\n",
       "      <td>0.0</td>\n",
       "    </tr>\n",
       "    <tr>\n",
       "      <th>36270</th>\n",
       "      <td>US</td>\n",
       "      <td>2020-08-01</td>\n",
       "      <td>154447</td>\n",
       "      <td>1133.0</td>\n",
       "    </tr>\n",
       "    <tr>\n",
       "      <th>36274</th>\n",
       "      <td>United Kingdom</td>\n",
       "      <td>2020-08-01</td>\n",
       "      <td>46278</td>\n",
       "      <td>74.0</td>\n",
       "    </tr>\n",
       "  </tbody>\n",
       "</table>\n",
       "<p>3860 rows × 4 columns</p>\n",
       "</div>"
      ],
      "text/plain": [
       "              country       date  total_deaths  deaths_change\n",
       "8           Australia 2020-01-22             0            0.0\n",
       "16            Belgium 2020-01-22             0            0.0\n",
       "23             Brazil 2020-01-22             0            0.0\n",
       "32             Canada 2020-01-22             0            0.0\n",
       "35              Chile 2020-01-22             0            0.0\n",
       "...               ...        ...           ...            ...\n",
       "36236          Russia 2020-08-01         14034           95.0\n",
       "36252    South Africa 2020-08-01          8153          148.0\n",
       "36254           Spain 2020-08-01         28445            0.0\n",
       "36270              US 2020-08-01        154447         1133.0\n",
       "36274  United Kingdom 2020-08-01         46278           74.0\n",
       "\n",
       "[3860 rows x 4 columns]"
      ]
     },
     "execution_count": 13,
     "metadata": {},
     "output_type": "execute_result"
    }
   ],
   "source": [
    "grp_df"
   ]
  }
 ],
 "metadata": {
  "kernelspec": {
   "display_name": "env-jupyter",
   "language": "python",
   "name": "env-jupyter"
  },
  "language_info": {
   "codemirror_mode": {
    "name": "ipython",
    "version": 3
   },
   "file_extension": ".py",
   "mimetype": "text/x-python",
   "name": "python",
   "nbconvert_exporter": "python",
   "pygments_lexer": "ipython3",
   "version": "3.6.9"
  }
 },
 "nbformat": 4,
 "nbformat_minor": 4
}
