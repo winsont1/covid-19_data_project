{
 "cells": [
  {
   "cell_type": "markdown",
   "metadata": {},
   "source": [
    "## 1. Download a timeseries of daily deaths per country"
   ]
  },
  {
   "cell_type": "code",
   "execution_count": 1,
   "metadata": {},
   "outputs": [],
   "source": [
    "import pandas as pd\n",
    "import numpy as np\n",
    "import bokeh\n",
    "\n",
    "# Download daily deaths per country from Github repo raw csv file and save to Pandas dataframe\n",
    "url = 'https://raw.githubusercontent.com/CSSEGISandData/COVID-19/master/csse_covid_19_data/csse_covid_19_time_series/time_series_covid19_deaths_global.csv'\n",
    "deaths_df = pd.read_csv(url, error_bad_lines=False)\n",
    "\n",
    "# Write daily deaths dataframe to CSV file (for reference)\n",
    "deaths_df.to_csv('time_series_covid19_deaths_global.csv', index = False, header=True)"
   ]
  },
  {
   "cell_type": "markdown",
   "metadata": {},
   "source": [
    "## 2. Unpivot table"
   ]
  },
  {
   "cell_type": "code",
   "execution_count": 2,
   "metadata": {},
   "outputs": [],
   "source": [
    "# Aggregate deaths by country\n",
    "grouped_deaths_df = deaths_df.groupby('Country/Region').sum()\n",
    "\n",
    "# Drop 'Lat' and 'Long' columns \n",
    "grouped_deaths_df = grouped_deaths_df.drop([\"Lat\", \"Long\"], axis=1)\n",
    "\n",
    "# Reset index\n",
    "grouped_deaths_df = grouped_deaths_df.reset_index()\n",
    "\n",
    "# Get date headers\n",
    "date_headers = list(grouped_deaths_df.columns[1:].values)\n",
    "\n",
    "# Convert data from wide form to long form\n",
    "long_df = pd.melt(grouped_deaths_df, id_vars= ['Country/Region'], value_vars= date_headers)\n",
    "\n",
    "# Rename Columns\n",
    "long_df = long_df.rename(columns={\"Country/Region\": \"country\", \"variable\": \"date\", \"value\": \"total_deaths\"}, errors=\"raise\")\n",
    "\n",
    "# Change date column type\n",
    "long_df['date'] = pd.to_datetime(long_df['date'])\n"
   ]
  },
  {
   "cell_type": "markdown",
   "metadata": {},
   "source": [
    "## 3. Calculate the daily change in deaths for each country"
   ]
  },
  {
   "cell_type": "code",
   "execution_count": 3,
   "metadata": {},
   "outputs": [],
   "source": [
    "# Add deaths_change column to dataframe in Step 2\n",
    "long_df.insert(3, 'deaths_change',0)\n",
    "\n",
    "# Get list of unique country names\n",
    "countries = list(long_df['country'].unique())\n",
    "\n",
    "# Calculate deaths_change for each country in 'countries' list\n",
    "\n",
    "for country in countries:\n",
    "    # Set temporary df for country\n",
    "    temp_df = long_df.loc[long_df['country'] == country]\n",
    "    \n",
    "    # Find difference between rows (returns difference results dataframe)\n",
    "    diff = temp_df['total_deaths'].diff()\n",
    "    \n",
    "    # Apply difference calculation to original long_df according to index\n",
    "    long_df.iloc[diff.index,3] = diff\n",
    "    \n",
    "# Remove NaN values from dataframe\n",
    "long_df = long_df.fillna(0)"
   ]
  },
  {
   "cell_type": "markdown",
   "metadata": {},
   "source": [
    "## 4. Plot Total and Change of Covid-19 Deaths of Top 20 Countries"
   ]
  },
  {
   "cell_type": "code",
   "execution_count": 4,
   "metadata": {},
   "outputs": [],
   "source": [
    "# Find latest date\n",
    "latest_date = long_df['date'].max()\n",
    "\n",
    "# Get Top_20 highest Covid-19 deaths of countries\n",
    "latest_deaths_df = long_df[long_df['date'] == latest_date]\n",
    "latest_deaths_df = latest_deaths_df.sort_values(by='total_deaths', ascending=False)[0:19]\n",
    " \n",
    "grp_list = list(latest_deaths_df['country'])\n",
    "grp_list.append('Australia')"
   ]
  },
  {
   "cell_type": "code",
   "execution_count": 5,
   "metadata": {},
   "outputs": [
    {
     "data": {
      "text/plain": [
       "['US',\n",
       " 'Italy',\n",
       " 'Spain',\n",
       " 'France',\n",
       " 'United Kingdom',\n",
       " 'Belgium',\n",
       " 'Germany',\n",
       " 'Iran',\n",
       " 'China',\n",
       " 'Netherlands',\n",
       " 'Brazil',\n",
       " 'Turkey',\n",
       " 'Canada',\n",
       " 'Sweden',\n",
       " 'Switzerland',\n",
       " 'Mexico',\n",
       " 'Ireland',\n",
       " 'Portugal',\n",
       " 'India',\n",
       " 'Australia']"
      ]
     },
     "execution_count": 5,
     "metadata": {},
     "output_type": "execute_result"
    }
   ],
   "source": [
    "grp_list"
   ]
  },
  {
   "cell_type": "code",
   "execution_count": 6,
   "metadata": {},
   "outputs": [],
   "source": [
    "grp_df = long_df[long_df['country'].isin(grp_list)]"
   ]
  },
  {
   "cell_type": "markdown",
   "metadata": {},
   "source": [
    "## 5. Plot Australia and US graphs of Total Deaths"
   ]
  },
  {
   "cell_type": "code",
   "execution_count": 7,
   "metadata": {},
   "outputs": [],
   "source": [
    "from bokeh.plotting import figure, output_file, show\n",
    "from bokeh.models import ColumnDataSource\n",
    "from bokeh.palettes import Category20\n",
    "\n",
    "us_df = long_df[long_df['country'] == 'US']\n",
    "us_df = us_df[us_df['total_deaths']>0]\n",
    "aus_df = long_df[long_df['country'] == 'Australia']\n",
    "aus_df = aus_df[aus_df['total_deaths']>0]\n",
    "my_df = long_df[long_df['country'] == 'Malaysia']\n",
    "my_df = my_df[my_df['total_deaths']>0]\n"
   ]
  },
  {
   "cell_type": "code",
   "execution_count": 8,
   "metadata": {},
   "outputs": [],
   "source": [
    "# Prepare and plot US Deaths Data\n",
    "deaths_array = np.array(us_df['total_deaths'])\n",
    "dates_array = np.array(us_df['date'], dtype=np.datetime64)\n",
    "\n",
    "window_size = 30\n",
    "\n",
    "# output to static HTML file\n",
    "output_file(\"total_US_deaths.html\", title=\"Timeline of US Covid-19 Deaths\")\n",
    "\n",
    "# create a new plot with a datetime axis type\n",
    "p = figure(plot_width=700, plot_height=400, x_axis_type=\"datetime\", sizing_mode=\"scale_both\")\n",
    "\n",
    "# add renderers\n",
    "p.line(dates_array, deaths_array, color='navy', legend_label='total deaths', line_width =2)\n",
    "\n",
    "# NEW: customize by setting attributes\n",
    "p.title.text = \"Timeline of US Covid-19 Deaths\"\n",
    "p.legend.location = \"top_left\"\n",
    "p.grid.grid_line_alpha = 1\n",
    "p.xaxis.axis_label = 'Date'\n",
    "p.yaxis.axis_label = 'Total Deaths'\n",
    "p.ygrid.band_fill_color = \"grey\"\n",
    "p.ygrid.band_fill_alpha = 0.05\n",
    "\n",
    "# show the results\n",
    "show(p)"
   ]
  },
  {
   "cell_type": "code",
   "execution_count": 9,
   "metadata": {},
   "outputs": [],
   "source": [
    "# Prepare and plot Australia Deaths Data\n",
    "deaths_array = np.array(aus_df['total_deaths'])\n",
    "dates_array = np.array(aus_df['date'], dtype=np.datetime64)\n",
    "\n",
    "window_size = 30\n",
    "\n",
    "# output to static HTML file\n",
    "output_file(\"total_Australia_deaths.html\", title=\"Timeline of Australia Covid-19 Deaths\")\n",
    "\n",
    "# create a new plot with a datetime axis type\n",
    "p = figure(plot_width=700, plot_height=400, x_axis_type=\"datetime\", sizing_mode=\"scale_both\")\n",
    "\n",
    "# add renderers\n",
    "p.line(dates_array, deaths_array, color='navy', legend_label='total deaths', line_width =2)\n",
    "\n",
    "# NEW: customize by setting attributes\n",
    "p.title.text = \"Timeline of Australia Covid-19 Deaths\"\n",
    "p.legend.location = \"top_left\"\n",
    "p.grid.grid_line_alpha = 1\n",
    "p.xaxis.axis_label = 'Date'\n",
    "p.yaxis.axis_label = 'Total Deaths'\n",
    "p.ygrid.band_fill_color = \"grey\"\n",
    "p.ygrid.band_fill_alpha = 0.05\n",
    "\n",
    "# show the results\n",
    "show(p)"
   ]
  },
  {
   "cell_type": "code",
   "execution_count": 10,
   "metadata": {},
   "outputs": [],
   "source": [
    "# Prepare and plot Malaysia Deaths Data\n",
    "deaths_array = np.array(my_df['total_deaths'])\n",
    "dates_array = np.array(my_df['date'], dtype=np.datetime64)\n",
    "\n",
    "window_size = 30\n",
    "\n",
    "# output to static HTML file\n",
    "output_file(\"total_Malaysia_deaths.html\", title=\"Timeline of Malaysia Covid-19 Deaths\")\n",
    "\n",
    "# create a new plot with a datetime axis type\n",
    "p = figure(plot_width=700, plot_height=400, x_axis_type=\"datetime\", sizing_mode=\"scale_both\")\n",
    "\n",
    "# add renderers\n",
    "p.line(dates_array, deaths_array, color='navy', legend_label='total deaths', line_width =2)\n",
    "\n",
    "# NEW: customize by setting attributes\n",
    "p.title.text = \"Timeline of Malaysia Covid-19 Deaths\"\n",
    "p.legend.location = \"top_left\"\n",
    "p.grid.grid_line_alpha = 1\n",
    "p.xaxis.axis_label = 'Date'\n",
    "p.yaxis.axis_label = 'Total Deaths'\n",
    "p.ygrid.band_fill_color = \"grey\"\n",
    "p.ygrid.band_fill_alpha = 0.05\n",
    "\n",
    "# show the results\n",
    "show(p)"
   ]
  },
  {
   "cell_type": "markdown",
   "metadata": {},
   "source": [
    "## 4. Plot Top 20 Countries Total Deaths "
   ]
  },
  {
   "cell_type": "code",
   "execution_count": 11,
   "metadata": {},
   "outputs": [
    {
     "name": "stderr",
     "output_type": "stream",
     "text": [
      "BokehDeprecationWarning: 'legend' keyword is deprecated, use explicit 'legend_label', 'legend_field', or 'legend_group' keywords instead\n"
     ]
    }
   ],
   "source": [
    "#bokeh - multi_linegrp_list = df.group.unique()\n",
    "ys = [grp_df.loc[grp_df.country == i].total_deaths for i in grp_list]\n",
    "xs = [grp_df.loc[grp_df.country == i].date for i in grp_list]\n",
    "source = ColumnDataSource(data=dict(\n",
    "     x = xs,\n",
    "     y = ys,\n",
    "     color = (Category20[20]),\n",
    "     group = grp_list))\n",
    "p3 = figure(plot_width=700, plot_height=500, x_axis_type=\"datetime\", sizing_mode=\"scale_both\")\n",
    "p3.multi_line(\n",
    "     xs='x',\n",
    "     ys='y',\n",
    "     legend='group',\n",
    "     source=source,\n",
    "     line_color='color',\n",
    "line_width = 3)\n",
    "\n",
    "p3.title.text = \"Top 20 Countries + Australia Covid-19 Total Deaths (cumulative) \"\n",
    "p3.legend.location = \"top_left\"\n",
    "p3.xaxis.axis_label = 'Date'\n",
    "p3.yaxis.axis_label = 'Total Deaths'\n",
    "\n",
    "output_file(\"top20_total_covid_deaths.html\", title=\"Top 20 Countries + Australia Covid-19 Total Deaths (cumulative) \")\n",
    "show(p3)"
   ]
  },
  {
   "cell_type": "markdown",
   "metadata": {},
   "source": [
    "## 4. Plot Top 20 Countries Daily Deaths"
   ]
  },
  {
   "cell_type": "code",
   "execution_count": 12,
   "metadata": {},
   "outputs": [
    {
     "name": "stderr",
     "output_type": "stream",
     "text": [
      "BokehDeprecationWarning: 'legend' keyword is deprecated, use explicit 'legend_label', 'legend_field', or 'legend_group' keywords instead\n"
     ]
    }
   ],
   "source": [
    "#bokeh - multi_linegrp_list = df.group.unique()\n",
    "ys = [grp_df.loc[grp_df.country == i].deaths_change for i in grp_list]\n",
    "xs = [grp_df.loc[grp_df.country == i].date for i in grp_list]\n",
    "source = ColumnDataSource(data=dict(\n",
    "     x = xs,\n",
    "     y = ys,\n",
    "     color = (Category20[20]),\n",
    "     group = grp_list))\n",
    "p3 = figure(plot_width=700, plot_height=500, x_axis_type=\"datetime\", sizing_mode=\"scale_both\")\n",
    "p3.multi_line(\n",
    "     xs='x',\n",
    "     ys='y',\n",
    "     legend='group',\n",
    "     source=source,\n",
    "     line_color='color',\n",
    "line_width = 3)\n",
    "\n",
    "p3.title.text = \"Top 20 Countries + Australia Covid-19 Daily Deaths (rate of change) \"\n",
    "p3.legend.location = \"top_left\"\n",
    "p3.xaxis.axis_label = 'Date'\n",
    "p3.yaxis.axis_label = 'Daily Deaths'\n",
    "\n",
    "output_file(\"top20_daily_covid_deaths.html\", title=\"Top 20 Countries + Australia Covid-19 Daily Deaths (rate of change)\")\n",
    "show(p3)"
   ]
  },
  {
   "cell_type": "code",
   "execution_count": 13,
   "metadata": {},
   "outputs": [
    {
     "data": {
      "text/html": [
       "<div>\n",
       "<style scoped>\n",
       "    .dataframe tbody tr th:only-of-type {\n",
       "        vertical-align: middle;\n",
       "    }\n",
       "\n",
       "    .dataframe tbody tr th {\n",
       "        vertical-align: top;\n",
       "    }\n",
       "\n",
       "    .dataframe thead th {\n",
       "        text-align: right;\n",
       "    }\n",
       "</style>\n",
       "<table border=\"1\" class=\"dataframe\">\n",
       "  <thead>\n",
       "    <tr style=\"text-align: right;\">\n",
       "      <th></th>\n",
       "      <th>country</th>\n",
       "      <th>date</th>\n",
       "      <th>total_deaths</th>\n",
       "      <th>deaths_change</th>\n",
       "    </tr>\n",
       "  </thead>\n",
       "  <tbody>\n",
       "    <tr>\n",
       "      <th>8</th>\n",
       "      <td>Australia</td>\n",
       "      <td>2020-01-22</td>\n",
       "      <td>0</td>\n",
       "      <td>0.0</td>\n",
       "    </tr>\n",
       "    <tr>\n",
       "      <th>16</th>\n",
       "      <td>Belgium</td>\n",
       "      <td>2020-01-22</td>\n",
       "      <td>0</td>\n",
       "      <td>0.0</td>\n",
       "    </tr>\n",
       "    <tr>\n",
       "      <th>23</th>\n",
       "      <td>Brazil</td>\n",
       "      <td>2020-01-22</td>\n",
       "      <td>0</td>\n",
       "      <td>0.0</td>\n",
       "    </tr>\n",
       "    <tr>\n",
       "      <th>32</th>\n",
       "      <td>Canada</td>\n",
       "      <td>2020-01-22</td>\n",
       "      <td>0</td>\n",
       "      <td>0.0</td>\n",
       "    </tr>\n",
       "    <tr>\n",
       "      <th>36</th>\n",
       "      <td>China</td>\n",
       "      <td>2020-01-22</td>\n",
       "      <td>17</td>\n",
       "      <td>0.0</td>\n",
       "    </tr>\n",
       "    <tr>\n",
       "      <th>...</th>\n",
       "      <td>...</td>\n",
       "      <td>...</td>\n",
       "      <td>...</td>\n",
       "      <td>...</td>\n",
       "    </tr>\n",
       "    <tr>\n",
       "      <th>17365</th>\n",
       "      <td>Sweden</td>\n",
       "      <td>2020-04-24</td>\n",
       "      <td>2152</td>\n",
       "      <td>131.0</td>\n",
       "    </tr>\n",
       "    <tr>\n",
       "      <th>17366</th>\n",
       "      <td>Switzerland</td>\n",
       "      <td>2020-04-24</td>\n",
       "      <td>1589</td>\n",
       "      <td>40.0</td>\n",
       "    </tr>\n",
       "    <tr>\n",
       "      <th>17375</th>\n",
       "      <td>Turkey</td>\n",
       "      <td>2020-04-24</td>\n",
       "      <td>2600</td>\n",
       "      <td>109.0</td>\n",
       "    </tr>\n",
       "    <tr>\n",
       "      <th>17376</th>\n",
       "      <td>US</td>\n",
       "      <td>2020-04-24</td>\n",
       "      <td>51949</td>\n",
       "      <td>1995.0</td>\n",
       "    </tr>\n",
       "    <tr>\n",
       "      <th>17380</th>\n",
       "      <td>United Kingdom</td>\n",
       "      <td>2020-04-24</td>\n",
       "      <td>19567</td>\n",
       "      <td>776.0</td>\n",
       "    </tr>\n",
       "  </tbody>\n",
       "</table>\n",
       "<p>1880 rows × 4 columns</p>\n",
       "</div>"
      ],
      "text/plain": [
       "              country       date  total_deaths  deaths_change\n",
       "8           Australia 2020-01-22             0            0.0\n",
       "16            Belgium 2020-01-22             0            0.0\n",
       "23             Brazil 2020-01-22             0            0.0\n",
       "32             Canada 2020-01-22             0            0.0\n",
       "36              China 2020-01-22            17            0.0\n",
       "...               ...        ...           ...            ...\n",
       "17365          Sweden 2020-04-24          2152          131.0\n",
       "17366     Switzerland 2020-04-24          1589           40.0\n",
       "17375          Turkey 2020-04-24          2600          109.0\n",
       "17376              US 2020-04-24         51949         1995.0\n",
       "17380  United Kingdom 2020-04-24         19567          776.0\n",
       "\n",
       "[1880 rows x 4 columns]"
      ]
     },
     "execution_count": 13,
     "metadata": {},
     "output_type": "execute_result"
    }
   ],
   "source": [
    "grp_df"
   ]
  }
 ],
 "metadata": {
  "kernelspec": {
   "display_name": "env-jupyter",
   "language": "python",
   "name": "env-jupyter"
  },
  "language_info": {
   "codemirror_mode": {
    "name": "ipython",
    "version": 3
   },
   "file_extension": ".py",
   "mimetype": "text/x-python",
   "name": "python",
   "nbconvert_exporter": "python",
   "pygments_lexer": "ipython3",
   "version": "3.6.9"
  }
 },
 "nbformat": 4,
 "nbformat_minor": 4
}
